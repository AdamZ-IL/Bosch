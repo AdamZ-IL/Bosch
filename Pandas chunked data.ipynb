{
 "cells": [
  {
   "cell_type": "code",
   "execution_count": 1,
   "metadata": {
    "collapsed": false
   },
   "outputs": [],
   "source": [
    "import numpy as np\n",
    "import pandas as pd\n",
    "import missingno as msno\n",
    "import timeit\n",
    "import dask.dataframe as dd\n",
    "\n",
    "%matplotlib inline"
   ]
  },
  {
   "cell_type": "code",
   "execution_count": 2,
   "metadata": {
    "collapsed": false,
    "scrolled": true
   },
   "outputs": [
    {
     "data": {
      "text/html": [
       "<div>\n",
       "<table border=\"1\" class=\"dataframe\">\n",
       "  <thead>\n",
       "    <tr style=\"text-align: right;\">\n",
       "      <th></th>\n",
       "      <th>Id</th>\n",
       "      <th>L0_S0_F0</th>\n",
       "      <th>L0_S0_F2</th>\n",
       "      <th>L0_S0_F4</th>\n",
       "      <th>L0_S0_F6</th>\n",
       "      <th>L0_S0_F8</th>\n",
       "      <th>L0_S0_F10</th>\n",
       "      <th>L0_S0_F12</th>\n",
       "      <th>L0_S0_F14</th>\n",
       "      <th>L0_S0_F16</th>\n",
       "      <th>...</th>\n",
       "      <th>L3_S50_F4245</th>\n",
       "      <th>L3_S50_F4247</th>\n",
       "      <th>L3_S50_F4249</th>\n",
       "      <th>L3_S50_F4251</th>\n",
       "      <th>L3_S50_F4253</th>\n",
       "      <th>L3_S51_F4256</th>\n",
       "      <th>L3_S51_F4258</th>\n",
       "      <th>L3_S51_F4260</th>\n",
       "      <th>L3_S51_F4262</th>\n",
       "      <th>Response</th>\n",
       "    </tr>\n",
       "  </thead>\n",
       "  <tbody>\n",
       "    <tr>\n",
       "      <th>0</th>\n",
       "      <td>4</td>\n",
       "      <td>0.030</td>\n",
       "      <td>-0.034</td>\n",
       "      <td>-0.197</td>\n",
       "      <td>-0.179</td>\n",
       "      <td>0.118</td>\n",
       "      <td>0.116</td>\n",
       "      <td>-0.015</td>\n",
       "      <td>-0.032</td>\n",
       "      <td>0.020</td>\n",
       "      <td>...</td>\n",
       "      <td>NaN</td>\n",
       "      <td>NaN</td>\n",
       "      <td>NaN</td>\n",
       "      <td>NaN</td>\n",
       "      <td>NaN</td>\n",
       "      <td>NaN</td>\n",
       "      <td>NaN</td>\n",
       "      <td>NaN</td>\n",
       "      <td>NaN</td>\n",
       "      <td>0</td>\n",
       "    </tr>\n",
       "    <tr>\n",
       "      <th>1</th>\n",
       "      <td>6</td>\n",
       "      <td>NaN</td>\n",
       "      <td>NaN</td>\n",
       "      <td>NaN</td>\n",
       "      <td>NaN</td>\n",
       "      <td>NaN</td>\n",
       "      <td>NaN</td>\n",
       "      <td>NaN</td>\n",
       "      <td>NaN</td>\n",
       "      <td>NaN</td>\n",
       "      <td>...</td>\n",
       "      <td>NaN</td>\n",
       "      <td>NaN</td>\n",
       "      <td>NaN</td>\n",
       "      <td>NaN</td>\n",
       "      <td>NaN</td>\n",
       "      <td>NaN</td>\n",
       "      <td>NaN</td>\n",
       "      <td>NaN</td>\n",
       "      <td>NaN</td>\n",
       "      <td>0</td>\n",
       "    </tr>\n",
       "    <tr>\n",
       "      <th>2</th>\n",
       "      <td>7</td>\n",
       "      <td>0.088</td>\n",
       "      <td>0.086</td>\n",
       "      <td>0.003</td>\n",
       "      <td>-0.052</td>\n",
       "      <td>0.161</td>\n",
       "      <td>0.025</td>\n",
       "      <td>-0.015</td>\n",
       "      <td>-0.072</td>\n",
       "      <td>-0.225</td>\n",
       "      <td>...</td>\n",
       "      <td>NaN</td>\n",
       "      <td>NaN</td>\n",
       "      <td>NaN</td>\n",
       "      <td>NaN</td>\n",
       "      <td>NaN</td>\n",
       "      <td>NaN</td>\n",
       "      <td>NaN</td>\n",
       "      <td>NaN</td>\n",
       "      <td>NaN</td>\n",
       "      <td>0</td>\n",
       "    </tr>\n",
       "    <tr>\n",
       "      <th>3</th>\n",
       "      <td>9</td>\n",
       "      <td>-0.036</td>\n",
       "      <td>-0.064</td>\n",
       "      <td>0.294</td>\n",
       "      <td>0.330</td>\n",
       "      <td>0.074</td>\n",
       "      <td>0.161</td>\n",
       "      <td>0.022</td>\n",
       "      <td>0.128</td>\n",
       "      <td>-0.026</td>\n",
       "      <td>...</td>\n",
       "      <td>NaN</td>\n",
       "      <td>NaN</td>\n",
       "      <td>NaN</td>\n",
       "      <td>NaN</td>\n",
       "      <td>NaN</td>\n",
       "      <td>NaN</td>\n",
       "      <td>NaN</td>\n",
       "      <td>NaN</td>\n",
       "      <td>NaN</td>\n",
       "      <td>0</td>\n",
       "    </tr>\n",
       "  </tbody>\n",
       "</table>\n",
       "<p>4 rows × 970 columns</p>\n",
       "</div>"
      ],
      "text/plain": [
       "   Id  L0_S0_F0  L0_S0_F2  L0_S0_F4  L0_S0_F6  L0_S0_F8  L0_S0_F10  L0_S0_F12  \\\n",
       "0   4     0.030    -0.034    -0.197    -0.179     0.118      0.116     -0.015   \n",
       "1   6       NaN       NaN       NaN       NaN       NaN        NaN        NaN   \n",
       "2   7     0.088     0.086     0.003    -0.052     0.161      0.025     -0.015   \n",
       "3   9    -0.036    -0.064     0.294     0.330     0.074      0.161      0.022   \n",
       "\n",
       "   L0_S0_F14  L0_S0_F16    ...     L3_S50_F4245  L3_S50_F4247  L3_S50_F4249  \\\n",
       "0     -0.032      0.020    ...              NaN           NaN           NaN   \n",
       "1        NaN        NaN    ...              NaN           NaN           NaN   \n",
       "2     -0.072     -0.225    ...              NaN           NaN           NaN   \n",
       "3      0.128     -0.026    ...              NaN           NaN           NaN   \n",
       "\n",
       "   L3_S50_F4251  L3_S50_F4253  L3_S51_F4256  L3_S51_F4258  L3_S51_F4260  \\\n",
       "0           NaN           NaN           NaN           NaN           NaN   \n",
       "1           NaN           NaN           NaN           NaN           NaN   \n",
       "2           NaN           NaN           NaN           NaN           NaN   \n",
       "3           NaN           NaN           NaN           NaN           NaN   \n",
       "\n",
       "   L3_S51_F4262  Response  \n",
       "0           NaN         0  \n",
       "1           NaN         0  \n",
       "2           NaN         0  \n",
       "3           NaN         0  \n",
       "\n",
       "[4 rows x 970 columns]"
      ]
     },
     "execution_count": 2,
     "metadata": {},
     "output_type": "execute_result"
    }
   ],
   "source": [
    "reader = pd.read_csv('../Data/train_numeric.csv', iterator=True, chunksize=50000, low_memory=False)\n",
    "\n",
    "one_row = pd.read_csv('../Data/train_numeric.csv',  nrows=1)\n",
    "\n",
    "\n",
    "reader.get_chunk(4)"
   ]
  },
  {
   "cell_type": "code",
   "execution_count": 3,
   "metadata": {
    "collapsed": false
   },
   "outputs": [
    {
     "name": "stdout",
     "output_type": "stream",
     "text": [
      "step: 0\n",
      "rename step: \n",
      "CPU times: user 48.9 s, sys: 1.75 s, total: 50.6 s\n",
      "Wall time: 50.5 s\n",
      "group by step: \n",
      "CPU times: user 12 s, sys: 956 ms, total: 12.9 s\n",
      "Wall time: 8.5 s\n",
      "step: 1\n",
      "rename step: \n",
      "CPU times: user 53.9 s, sys: 724 ms, total: 54.6 s\n",
      "Wall time: 54.5 s\n",
      "group by step: \n",
      "CPU times: user 11.9 s, sys: 492 ms, total: 12.4 s\n",
      "Wall time: 8.25 s\n",
      "step: 2\n",
      "rename step: \n",
      "CPU times: user 52.5 s, sys: 196 ms, total: 52.7 s\n",
      "Wall time: 52.7 s\n",
      "group by step: \n",
      "CPU times: user 12.4 s, sys: 500 ms, total: 12.9 s\n",
      "Wall time: 8.53 s\n",
      "step: 3\n",
      "rename step: \n",
      "CPU times: user 56.4 s, sys: 148 ms, total: 56.6 s\n",
      "Wall time: 56.5 s\n",
      "group by step: \n",
      "CPU times: user 13.4 s, sys: 480 ms, total: 13.9 s\n",
      "Wall time: 9.3 s\n",
      "step: 4\n",
      "rename step: \n",
      "CPU times: user 54.9 s, sys: 240 ms, total: 55.2 s\n",
      "Wall time: 55.1 s\n",
      "group by step: \n",
      "CPU times: user 14.3 s, sys: 604 ms, total: 14.9 s\n",
      "Wall time: 10 s\n",
      "step: 5\n",
      "rename step: \n",
      "CPU times: user 56.4 s, sys: 148 ms, total: 56.5 s\n",
      "Wall time: 56.5 s\n",
      "group by step: \n",
      "CPU times: user 12.6 s, sys: 460 ms, total: 13.1 s\n",
      "Wall time: 9.19 s\n",
      "step: 6\n",
      "rename step: \n",
      "CPU times: user 1min, sys: 232 ms, total: 1min\n",
      "Wall time: 1min\n",
      "group by step: \n",
      "CPU times: user 13.1 s, sys: 508 ms, total: 13.6 s\n",
      "Wall time: 9.9 s\n",
      "step: 7\n",
      "rename step: \n",
      "CPU times: user 60 s, sys: 204 ms, total: 1min\n",
      "Wall time: 1min\n",
      "group by step: \n",
      "CPU times: user 16 s, sys: 588 ms, total: 16.6 s\n",
      "Wall time: 11.4 s\n",
      "step: 8\n",
      "rename step: \n",
      "CPU times: user 58.9 s, sys: 160 ms, total: 59 s\n",
      "Wall time: 58.9 s\n",
      "group by step: \n",
      "CPU times: user 13 s, sys: 480 ms, total: 13.5 s\n",
      "Wall time: 9.9 s\n",
      "step: 9\n",
      "rename step: \n",
      "CPU times: user 58.6 s, sys: 228 ms, total: 58.8 s\n",
      "Wall time: 58.7 s\n",
      "group by step: \n",
      "CPU times: user 14.6 s, sys: 600 ms, total: 15.2 s\n",
      "Wall time: 10.5 s\n",
      "step: 10\n",
      "rename step: \n",
      "CPU times: user 58.8 s, sys: 152 ms, total: 58.9 s\n",
      "Wall time: 58.8 s\n",
      "group by step: \n",
      "CPU times: user 14.1 s, sys: 572 ms, total: 14.7 s\n",
      "Wall time: 10.2 s\n",
      "step: 11\n",
      "rename step: \n",
      "CPU times: user 1min, sys: 188 ms, total: 1min\n",
      "Wall time: 1min\n",
      "group by step: \n",
      "CPU times: user 13.2 s, sys: 484 ms, total: 13.7 s\n",
      "Wall time: 9.57 s\n",
      "step: 12\n",
      "rename step: \n",
      "CPU times: user 59.5 s, sys: 168 ms, total: 59.6 s\n",
      "Wall time: 59.7 s\n",
      "group by step: \n",
      "CPU times: user 16.9 s, sys: 736 ms, total: 17.7 s\n",
      "Wall time: 12.1 s\n",
      "step: 13\n",
      "rename step: \n",
      "CPU times: user 59.9 s, sys: 192 ms, total: 1min\n",
      "Wall time: 1min\n",
      "group by step: \n",
      "CPU times: user 14 s, sys: 568 ms, total: 14.6 s\n",
      "Wall time: 10 s\n",
      "step: 14\n",
      "rename step: \n",
      "CPU times: user 58.7 s, sys: 252 ms, total: 59 s\n",
      "Wall time: 58.9 s\n",
      "group by step: \n",
      "CPU times: user 13.5 s, sys: 668 ms, total: 14.1 s\n",
      "Wall time: 10 s\n",
      "step: 15\n",
      "rename step: \n",
      "CPU times: user 1min, sys: 184 ms, total: 1min\n",
      "Wall time: 1min\n",
      "group by step: \n",
      "CPU times: user 14.1 s, sys: 676 ms, total: 14.7 s\n",
      "Wall time: 10.4 s\n",
      "step: 16\n",
      "rename step: \n",
      "CPU times: user 57 s, sys: 208 ms, total: 57.2 s\n",
      "Wall time: 57.1 s\n",
      "group by step: \n",
      "CPU times: user 13.3 s, sys: 468 ms, total: 13.8 s\n",
      "Wall time: 9.7 s\n",
      "step: 17\n",
      "rename step: \n",
      "CPU times: user 1min 1s, sys: 244 ms, total: 1min 1s\n",
      "Wall time: 1min 1s\n",
      "group by step: \n",
      "CPU times: user 13 s, sys: 620 ms, total: 13.6 s\n",
      "Wall time: 9.48 s\n",
      "step: 18\n",
      "rename step: \n",
      "CPU times: user 1min, sys: 232 ms, total: 1min\n",
      "Wall time: 1min\n",
      "group by step: \n",
      "CPU times: user 13 s, sys: 592 ms, total: 13.6 s\n",
      "Wall time: 9.58 s\n",
      "step: 19\n",
      "rename step: \n",
      "CPU times: user 58.3 s, sys: 192 ms, total: 58.5 s\n",
      "Wall time: 58.6 s\n",
      "group by step: \n",
      "CPU times: user 12.9 s, sys: 652 ms, total: 13.6 s\n",
      "Wall time: 9.74 s\n",
      "step: 20\n",
      "rename step: \n",
      "CPU times: user 58.1 s, sys: 216 ms, total: 58.3 s\n",
      "Wall time: 58.4 s\n",
      "group by step: \n",
      "CPU times: user 13.1 s, sys: 568 ms, total: 13.6 s\n",
      "Wall time: 9.5 s\n",
      "step: 21\n",
      "rename step: \n",
      "CPU times: user 1min, sys: 180 ms, total: 1min\n",
      "Wall time: 1min\n",
      "group by step: \n",
      "CPU times: user 12.9 s, sys: 552 ms, total: 13.5 s\n",
      "Wall time: 9.46 s\n",
      "step: 22\n",
      "rename step: \n",
      "CPU times: user 59.2 s, sys: 224 ms, total: 59.4 s\n",
      "Wall time: 59.4 s\n",
      "group by step: \n",
      "CPU times: user 13.1 s, sys: 492 ms, total: 13.5 s\n",
      "Wall time: 9.5 s\n",
      "step: 23\n",
      "rename step: \n",
      "CPU times: user 42.5 s, sys: 60 ms, total: 42.6 s\n",
      "Wall time: 42.6 s\n",
      "group by step: \n",
      "CPU times: user 7.65 s, sys: 244 ms, total: 7.89 s\n",
      "Wall time: 5.48 s\n"
     ]
    }
   ],
   "source": [
    "\n",
    "\n",
    "final = []\n",
    "\n",
    "i=0\n",
    "\n",
    "for chunk in reader:\n",
    "\n",
    "    print('step: '+str(i))\n",
    "    \n",
    "    df = pd.melt(chunk, id_vars = 'Id', value_vars=list(one_row.columns[1:-1]))\n",
    "\n",
    "    df['value'] = (df['value']/df['value'])\n",
    "\n",
    "    #split is much faster than regex extract\n",
    "    #%time df['variable_new'] = df['variable'].str.extract('(.*_.*)_', expand=True)\n",
    "    df['variable_new'] = df['variable'].str.rsplit('_', expand=False,n=1).str.get(0)\n",
    "    \n",
    "    \n",
    "    ddf = dd.from_pandas(df, chunksize=200000)\n",
    "\n",
    "    ddf_grouped = ddf.groupby(['Id','variable_new'], sort=False).value.max().compute().reset_index()\n",
    "    \n",
    "    \n",
    "    df_grouped = pd.DataFrame(ddf_grouped)\n",
    "\n",
    "\n",
    "    df_pivot = pd.pivot_table(df_grouped, index='Id', columns='variable_new',\n",
    "                             values='value', aggfunc=np.max).reset_index()\n",
    "\n",
    "\n",
    "    col = ['Id', 'L0_S0', 'L0_S1', 'L0_S2', 'L0_S3', 'L0_S4', 'L0_S5', 'L0_S6', 'L0_S7', 'L0_S8', 'L0_S9',\n",
    "     'L0_S10', 'L0_S11', 'L0_S12', 'L0_S13', 'L0_S14', 'L0_S15',\n",
    "     'L0_S16', 'L0_S17', 'L0_S18', 'L0_S19', 'L0_S20', 'L0_S21', 'L0_S22', \n",
    "     'L0_S23', 'L1_S24', 'L1_S25', 'L2_S26', 'L2_S27', 'L2_S28',\n",
    "     'L3_S29', 'L3_S30', 'L3_S31', 'L3_S32', 'L3_S33', 'L3_S34', 'L3_S35',\n",
    "     'L3_S36', 'L3_S37', 'L3_S38', 'L3_S39', 'L3_S40', 'L3_S41', 'L3_S43',\n",
    "     'L3_S44', 'L3_S45', 'L3_S47', 'L3_S48', 'L3_S49', 'L3_S50', 'L3_S51']\n",
    "\n",
    "\n",
    "    df_pivot = df_pivot[col]\n",
    "    \n",
    "\n",
    "    final.append(df_pivot[col])\n",
    "\n",
    "    i += 1\n"
   ]
  },
  {
   "cell_type": "code",
   "execution_count": 17,
   "metadata": {
    "collapsed": false
   },
   "outputs": [
    {
     "data": {
      "text/plain": [
       "4"
      ]
     },
     "execution_count": 17,
     "metadata": {},
     "output_type": "execute_result"
    }
   ],
   "source": [
    "df_final.head()\n",
    "\n",
    "col_line_station = ['L0_S0', 'L0_S1', 'L0_S2', 'L0_S3', 'L0_S4', 'L0_S5', 'L0_S6', 'L0_S7', 'L0_S8', 'L0_S9',\n",
    " 'L0_S10', 'L0_S11', 'L0_S12', 'L0_S13', 'L0_S14', 'L0_S15',\n",
    " 'L0_S16', 'L0_S17', 'L0_S18', 'L0_S19', 'L0_S20', 'L0_S21', 'L0_S22', \n",
    " 'L0_S23', 'L1_S24', 'L1_S25', 'L2_S26', 'L2_S27', 'L2_S28',\n",
    " 'L3_S29', 'L3_S30', 'L3_S31', 'L3_S32', 'L3_S33', 'L3_S34', 'L3_S35',\n",
    " 'L3_S36', 'L3_S37', 'L3_S38', 'L3_S39', 'L3_S40', 'L3_S41', 'L3_S43',\n",
    " 'L3_S44', 'L3_S45', 'L3_S47', 'L3_S48', 'L3_S49', 'L3_S50', 'L3_S51']\n",
    "\n"
   ]
  },
  {
   "cell_type": "code",
   "execution_count": 12,
   "metadata": {
    "collapsed": false
   },
   "outputs": [
    {
     "data": {
      "image/png": "[encoded data removed]",
      "text/plain": [
       "<matplotlib.figure.Figure at 0x7f649d996908>"
      ]
     },
     "metadata": {},
     "output_type": "display_data"
    }
   ],
   "source": [
    "df_final = pd.concat(final, ignore_index=True)\n",
    "\n",
    "\n",
    "msno.matrix(df_final.sort_values(col[1:], na_position='first'), labels=True)\n"
   ]
  },
  {
   "cell_type": "code",
   "execution_count": 31,
   "metadata": {
    "collapsed": false
   },
   "outputs": [],
   "source": [
    "col_line_station = ['L0_S0', 'L0_S1', 'L0_S2', 'L0_S3', 'L0_S4', 'L0_S5', 'L0_S6', 'L0_S7', 'L0_S8', 'L0_S9',\n",
    "                     'L0_S10', 'L0_S11', 'L0_S12', 'L0_S13', 'L0_S14', 'L0_S15',\n",
    "                     'L0_S16', 'L0_S17', 'L0_S18', 'L0_S19', 'L0_S20', 'L0_S21', 'L0_S22', \n",
    "                     'L0_S23', 'L1_S24', 'L1_S25', 'L2_S26', 'L2_S27', 'L2_S28',\n",
    "                     'L3_S29', 'L3_S30', 'L3_S31', 'L3_S32', 'L3_S33', 'L3_S34', 'L3_S35',\n",
    "                     'L3_S36', 'L3_S37', 'L3_S38', 'L3_S39', 'L3_S40', 'L3_S41', 'L3_S43',\n",
    "                     'L3_S44', 'L3_S45', 'L3_S47', 'L3_S48', 'L3_S49', 'L3_S50', 'L3_S51']\n",
    "\n",
    "temp = df_final.fillna(0).groupby(by=col_line_station).count().reset_index()"
   ]
  },
  {
   "cell_type": "code",
   "execution_count": 33,
   "metadata": {
    "collapsed": false
   },
   "outputs": [],
   "source": [
    "df_final.to_csv('../Data/df_final.csv', index=False)"
   ]
  },
  {
   "cell_type": "code",
   "execution_count": 22,
   "metadata": {
    "collapsed": false
   },
   "outputs": [
    {
     "data": {
      "text/plain": [
       "pandas.core.groupby.DataFrameGroupBy"
      ]
     },
     "execution_count": 22,
     "metadata": {},
     "output_type": "execute_result"
    }
   ],
   "source": []
  },
  {
   "cell_type": "code",
   "execution_count": null,
   "metadata": {
    "collapsed": false
   },
   "outputs": [],
   "source": []
  },
  {
   "cell_type": "code",
   "execution_count": null,
   "metadata": {
    "collapsed": false
   },
   "outputs": [],
   "source": []
  },
  {
   "cell_type": "code",
   "execution_count": null,
   "metadata": {
    "collapsed": false
   },
   "outputs": [],
   "source": []
  },
  {
   "cell_type": "code",
   "execution_count": null,
   "metadata": {
    "collapsed": false
   },
   "outputs": [],
   "source": []
  },
  {
   "cell_type": "code",
   "execution_count": null,
   "metadata": {
    "collapsed": false
   },
   "outputs": [],
   "source": []
  },
  {
   "cell_type": "code",
   "execution_count": null,
   "metadata": {
    "collapsed": true
   },
   "outputs": [],
   "source": []
  }
 ],
 "metadata": {
  "anaconda-cloud": {},
  "kernelspec": {
   "display_name": "Python [Root]",
   "language": "python",
   "name": "Python [Root]"
  },
  "language_info": {
   "codemirror_mode": {
    "name": "ipython",
    "version": 3
   },
   "file_extension": ".py",
   "mimetype": "text/x-python",
   "name": "python",
   "nbconvert_exporter": "python",
   "pygments_lexer": "ipython3",
   "version": "3.5.2"
  }
 },
 "nbformat": 4,
 "nbformat_minor": 0
}
