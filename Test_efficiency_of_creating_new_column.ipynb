{
 "cells": [
  {
   "cell_type": "code",
   "execution_count": 1,
   "metadata": {
    "collapsed": true
   },
   "outputs": [],
   "source": [
    "import numpy as np\n",
    "import pandas as pd\n",
    "import missingno as msno\n",
    "import timeit\n",
    "import dask.dataframe as dd\n",
    "\n",
    "%matplotlib inline"
   ]
  },
  {
   "cell_type": "code",
   "execution_count": 2,
   "metadata": {
    "collapsed": false
   },
   "outputs": [
    {
     "data": {
      "text/html": [
       "<div>\n",
       "<table border=\"1\" class=\"dataframe\">\n",
       "  <thead>\n",
       "    <tr style=\"text-align: right;\">\n",
       "      <th></th>\n",
       "      <th>Id</th>\n",
       "      <th>L0_S0_F0</th>\n",
       "      <th>L0_S0_F2</th>\n",
       "      <th>L0_S0_F4</th>\n",
       "      <th>L0_S0_F6</th>\n",
       "      <th>L0_S0_F8</th>\n",
       "      <th>L0_S0_F10</th>\n",
       "      <th>L0_S0_F12</th>\n",
       "      <th>L0_S0_F14</th>\n",
       "      <th>L0_S0_F16</th>\n",
       "      <th>...</th>\n",
       "      <th>L3_S50_F4245</th>\n",
       "      <th>L3_S50_F4247</th>\n",
       "      <th>L3_S50_F4249</th>\n",
       "      <th>L3_S50_F4251</th>\n",
       "      <th>L3_S50_F4253</th>\n",
       "      <th>L3_S51_F4256</th>\n",
       "      <th>L3_S51_F4258</th>\n",
       "      <th>L3_S51_F4260</th>\n",
       "      <th>L3_S51_F4262</th>\n",
       "      <th>Response</th>\n",
       "    </tr>\n",
       "  </thead>\n",
       "  <tbody>\n",
       "    <tr>\n",
       "      <th>0</th>\n",
       "      <td>4</td>\n",
       "      <td>0.03</td>\n",
       "      <td>-0.034</td>\n",
       "      <td>-0.197</td>\n",
       "      <td>-0.179</td>\n",
       "      <td>0.118</td>\n",
       "      <td>0.116</td>\n",
       "      <td>-0.015</td>\n",
       "      <td>-0.032</td>\n",
       "      <td>0.02</td>\n",
       "      <td>...</td>\n",
       "      <td>NaN</td>\n",
       "      <td>NaN</td>\n",
       "      <td>NaN</td>\n",
       "      <td>NaN</td>\n",
       "      <td>NaN</td>\n",
       "      <td>NaN</td>\n",
       "      <td>NaN</td>\n",
       "      <td>NaN</td>\n",
       "      <td>NaN</td>\n",
       "      <td>0</td>\n",
       "    </tr>\n",
       "  </tbody>\n",
       "</table>\n",
       "<p>1 rows × 970 columns</p>\n",
       "</div>"
      ],
      "text/plain": [
       "   Id  L0_S0_F0  L0_S0_F2  L0_S0_F4  L0_S0_F6  L0_S0_F8  L0_S0_F10  L0_S0_F12  \\\n",
       "0   4      0.03    -0.034    -0.197    -0.179     0.118      0.116     -0.015   \n",
       "\n",
       "   L0_S0_F14  L0_S0_F16    ...     L3_S50_F4245  L3_S50_F4247  L3_S50_F4249  \\\n",
       "0     -0.032       0.02    ...              NaN           NaN           NaN   \n",
       "\n",
       "   L3_S50_F4251  L3_S50_F4253  L3_S51_F4256  L3_S51_F4258  L3_S51_F4260  \\\n",
       "0           NaN           NaN           NaN           NaN           NaN   \n",
       "\n",
       "   L3_S51_F4262  Response  \n",
       "0           NaN         0  \n",
       "\n",
       "[1 rows x 970 columns]"
      ]
     },
     "execution_count": 2,
     "metadata": {},
     "output_type": "execute_result"
    }
   ],
   "source": [
    "reader = pd.read_csv('../Data/train_numeric.csv', iterator=True, chunksize=100000, low_memory=False)\n",
    "\n",
    "one_row = pd.read_csv('../Data/train_numeric.csv',  nrows=1)\n",
    "\n",
    "\n",
    "reader.get_chunk(1)"
   ]
  },
  {
   "cell_type": "code",
   "execution_count": 35,
   "metadata": {
    "collapsed": true
   },
   "outputs": [],
   "source": [
    "test = pd.melt(reader.get_chunk(4), id_vars = 'Id', value_vars=list(one_row.columns[1:-1]))"
   ]
  },
  {
   "cell_type": "code",
   "execution_count": 71,
   "metadata": {
    "collapsed": false
   },
   "outputs": [
    {
     "name": "stdout",
     "output_type": "stream",
     "text": [
      "CPU times: user 1min 36s, sys: 3.02 s, total: 1min 39s\n",
      "Wall time: 1min 39s\n"
     ]
    }
   ],
   "source": [
    "#test['variable_new'] = test['variable'].str.split('_').str[:2]\n",
    "\n",
    "test = pd.melt(reader.get_chunk(90000), id_vars = 'Id', value_vars=list(one_row.columns[1:-1]))\n",
    "\n",
    "%time test['variable_new'] = test['variable'].str.rsplit('_', expand=False,n=1).str.get(0)\n",
    "\n"
   ]
  },
  {
   "cell_type": "code",
   "execution_count": 72,
   "metadata": {
    "collapsed": false
   },
   "outputs": [
    {
     "name": "stdout",
     "output_type": "stream",
     "text": [
      "CPU times: user 2min 46s, sys: 2.91 s, total: 2min 49s\n",
      "Wall time: 2min 49s\n"
     ]
    }
   ],
   "source": [
    "\n",
    "test = pd.melt(reader.get_chunk(90000), id_vars = 'Id', value_vars=list(one_row.columns[1:-1]))\n",
    "\n",
    "\n",
    "%time test['variable_new'] = test['variable'].str.extract('(.*_.*_)', expand=True)"
   ]
  },
  {
   "cell_type": "code",
   "execution_count": null,
   "metadata": {
    "collapsed": false
   },
   "outputs": [],
   "source": []
  },
  {
   "cell_type": "code",
   "execution_count": 60,
   "metadata": {
    "collapsed": false
   },
   "outputs": [
    {
     "data": {
      "text/plain": [
       "0        [L0, S0]\n",
       "1        [L0, S0]\n",
       "2        [L0, S0]\n",
       "3        [L0, S0]\n",
       "4        [L0, S0]\n",
       "5        [L0, S0]\n",
       "6        [L0, S0]\n",
       "7        [L0, S0]\n",
       "8        [L0, S0]\n",
       "9        [L0, S0]\n",
       "10       [L0, S0]\n",
       "11       [L0, S0]\n",
       "12       [L0, S0]\n",
       "13       [L0, S0]\n",
       "14       [L0, S0]\n",
       "15       [L0, S0]\n",
       "16       [L0, S0]\n",
       "17       [L0, S0]\n",
       "18       [L0, S0]\n",
       "19       [L0, S0]\n",
       "20       [L0, S0]\n",
       "21       [L0, S0]\n",
       "22       [L0, S0]\n",
       "23       [L0, S0]\n",
       "24       [L0, S0]\n",
       "25       [L0, S0]\n",
       "26       [L0, S0]\n",
       "27       [L0, S0]\n",
       "28       [L0, S0]\n",
       "29       [L0, S0]\n",
       "          ...    \n",
       "3842    [L3, S50]\n",
       "3843    [L3, S50]\n",
       "3844    [L3, S50]\n",
       "3845    [L3, S50]\n",
       "3846    [L3, S50]\n",
       "3847    [L3, S50]\n",
       "3848    [L3, S50]\n",
       "3849    [L3, S50]\n",
       "3850    [L3, S50]\n",
       "3851    [L3, S50]\n",
       "3852    [L3, S50]\n",
       "3853    [L3, S50]\n",
       "3854    [L3, S50]\n",
       "3855    [L3, S50]\n",
       "3856    [L3, S51]\n",
       "3857    [L3, S51]\n",
       "3858    [L3, S51]\n",
       "3859    [L3, S51]\n",
       "3860    [L3, S51]\n",
       "3861    [L3, S51]\n",
       "3862    [L3, S51]\n",
       "3863    [L3, S51]\n",
       "3864    [L3, S51]\n",
       "3865    [L3, S51]\n",
       "3866    [L3, S51]\n",
       "3867    [L3, S51]\n",
       "3868    [L3, S51]\n",
       "3869    [L3, S51]\n",
       "3870    [L3, S51]\n",
       "3871    [L3, S51]\n",
       "Name: variable, dtype: object"
      ]
     },
     "execution_count": 60,
     "metadata": {},
     "output_type": "execute_result"
    }
   ],
   "source": [
    "\n",
    "#splitter = lambda x: x.str.rsplit('_', expand=False, n=1).str.get(0)\n",
    "\n",
    "#splitter = lambda x: x.rsplit('_', n=1)\n",
    "\n",
    "def splitter(x):\n",
    "    res0 = x.rsplit('_')\n",
    "    res1 = res0[0:2]\n",
    "    res2 = res1.\n",
    "    return res1\n",
    "\n",
    "\n",
    "test = pd.melt(reader.get_chunk(4), id_vars = 'Id', value_vars=list(one_row.columns[1:-1]))\n",
    "\n",
    "\n",
    "test['variable'].apply(splitter)\n"
   ]
  },
  {
   "cell_type": "code",
   "execution_count": 68,
   "metadata": {
    "collapsed": false
   },
   "outputs": [
    {
     "data": {
      "text/plain": [
       "pandas.core.series.Series"
      ]
     },
     "execution_count": 68,
     "metadata": {},
     "output_type": "execute_result"
    }
   ],
   "source": [
    "type(test['variable'])"
   ]
  },
  {
   "cell_type": "code",
   "execution_count": null,
   "metadata": {
    "collapsed": true
   },
   "outputs": [],
   "source": []
  }
 ],
 "metadata": {
  "anaconda-cloud": {},
  "kernelspec": {
   "display_name": "Python [Root]",
   "language": "python",
   "name": "Python [Root]"
  },
  "language_info": {
   "codemirror_mode": {
    "name": "ipython",
    "version": 3
   },
   "file_extension": ".py",
   "mimetype": "text/x-python",
   "name": "python",
   "nbconvert_exporter": "python",
   "pygments_lexer": "ipython3",
   "version": "3.5.2"
  }
 },
 "nbformat": 4,
 "nbformat_minor": 0
}
